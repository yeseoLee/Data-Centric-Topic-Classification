{
 "nbformat": 4,
 "nbformat_minor": 0,
 "metadata": {
  "colab": {
   "provenance": [],
   "gpuType": "T4"
  },
  "kernelspec": {
   "name": "python3",
   "display_name": "Python 3 (ipykernel)",
   "language": "python"
  },
  "language_info": {
   "name": "python"
  }
 },
 "cells": [
  {
   "cell_type": "code",
   "source": [
    "#모든 행과 열 표시\n",
    "# pd.set_option('display.max_rows', None)\n",
    "# pd.set_option('display.max_columns', None)\n",
    "#최대 행과 열 표시 설정을 기본값으로 되돌리기\n",
    "# pd.reset_option('display.max_rows')\n",
    "# pd.reset_option('display.max_columns')"
   ],
   "metadata": {
    "id": "bapJG6H4kZft"
   },
   "execution_count": 1,
   "outputs": []
  },
  {
   "cell_type": "code",
   "source": [
    "import pandas as pd\n",
    "import re"
   ],
   "metadata": {
    "id": "Iyl0IUs5lLO-",
    "ExecuteTime": {
     "end_time": "2024-11-03T00:58:43.885697Z",
     "start_time": "2024-11-03T00:58:43.444633Z"
    }
   },
   "outputs": [],
   "execution_count": 1
  },
  {
   "cell_type": "code",
   "metadata": {
    "id": "E6d9RRzFi6dd",
    "ExecuteTime": {
     "end_time": "2024-11-03T00:58:44.396038Z",
     "start_time": "2024-11-03T00:58:44.393038Z"
    }
   },
   "source": [
    "def specical_char_ratio(text):\n",
    "    noise_count = len(re.findall(r\"[^a-zA-Z0-9\\sㄱ-ㅎㅏ-ㅣ가-힣一-龥]\", text))\n",
    "    return noise_count / len(text) if len(text) > 0 else 0"
   ],
   "outputs": [],
   "execution_count": 2
  },
  {
   "cell_type": "code",
   "source": [
    "# 소문자 알파벳 비율\n",
    "def alphabet_ratio(text):\n",
    "    alphabet_count = len(re.findall(r'[a-z]', text))\n",
    "    return alphabet_count / len(text) if len(text) > 0 else 0"
   ],
   "metadata": {
    "id": "dy0zLDhvi-vS",
    "ExecuteTime": {
     "end_time": "2024-11-03T00:58:45.208923Z",
     "start_time": "2024-11-03T00:58:45.205292Z"
    }
   },
   "outputs": [],
   "execution_count": 3
  },
  {
   "cell_type": "code",
   "source": [
    "# 대소문자 알파벳 비율\n",
    "def all_alphabet_ratio(text):\n",
    "    alphabet_count = len(re.findall(r'[A-Za-z]', text))\n",
    "    return alphabet_count / len(text) if len(text) > 0 else 0"
   ],
   "metadata": {
    "id": "WHiP1R3v1dmf",
    "ExecuteTime": {
     "end_time": "2024-11-03T00:58:45.732617Z",
     "start_time": "2024-11-03T00:58:45.730307Z"
    }
   },
   "outputs": [],
   "execution_count": 4
  },
  {
   "cell_type": "code",
   "source": [
    "# 특수문자 제거\n",
    "def remove_special_characters(text):\n",
    "    return re.sub(r'[!#$\\'\\\"\\(\\)*+\\-/:;<=>?@\\[\\\\\\]^_`{|}＋&]+', '', text)"
   ],
   "metadata": {
    "id": "5TVllJhgjjyj",
    "ExecuteTime": {
     "end_time": "2024-11-03T00:58:46.214155Z",
     "start_time": "2024-11-03T00:58:46.212141Z"
    }
   },
   "outputs": [],
   "execution_count": 5
  },
  {
   "cell_type": "code",
   "source": [
    "def save_dataframe_to_csv(dataframe, output_path, index=False):\n",
    "    dataframe.to_csv(output_path, index=index)"
   ],
   "metadata": {
    "id": "tWzus74LksfK",
    "ExecuteTime": {
     "end_time": "2024-11-03T00:58:49.557581Z",
     "start_time": "2024-11-03T00:58:49.552923Z"
    }
   },
   "outputs": [],
   "execution_count": 6
  },
  {
   "cell_type": "code",
   "source": "df = pd.read_csv('data/train.csv')",
   "metadata": {
    "id": "0Fl0YvGOlEdZ",
    "ExecuteTime": {
     "end_time": "2024-11-03T00:58:50.133993Z",
     "start_time": "2024-11-03T00:58:50.120074Z"
    }
   },
   "outputs": [],
   "execution_count": 7
  },
  {
   "cell_type": "markdown",
   "source": [
    "### 기사 제목에 잘 사용하지 않는 특수문자를 제거한다.\n",
    "[!#$\\'\\\"\\(\\)*+\\-/:;<=>?@\\[\\\\\\]^_`{|}＋&]+"
   ],
   "metadata": {
    "id": "qHjIKfM0sxca"
   }
  },
  {
   "cell_type": "code",
   "source": [
    "# 특수문자 제거\n",
    "df['remove_special_char'] = df['text'].apply(remove_special_characters)\n",
    "df.head(5)"
   ],
   "metadata": {
    "id": "94-8YCsflOI-",
    "colab": {
     "base_uri": "https://localhost:8080/",
     "height": 276
    },
    "outputId": "2ca39760-c712-4e3c-f9dc-821a323e2ff4",
    "ExecuteTime": {
     "end_time": "2024-11-03T00:58:52.760985Z",
     "start_time": "2024-11-03T00:58:52.747481Z"
    }
   },
   "outputs": [
    {
     "data": {
      "text/plain": [
       "                    ID                              text  target  \\\n",
       "0  ynat-v1_train_00000  정i :파1 미사z KT( 이용기간 2e 단] Q분종U2보       4   \n",
       "1  ynat-v1_train_00001       K찰.국DLwo 로L3한N% 회장 2 T0&}송=       3   \n",
       "2  ynat-v1_train_00002            m 김정) 자주통일 새,?r열1나가야1보       2   \n",
       "3  ynat-v1_train_00003     갤노트8 주말 27만대 개통…시장은 불법 보조금 얼룩       5   \n",
       "4  ynat-v1_train_00004      pI美대선I앞두고 R2fr단 발] $비해 감시 강화       6   \n",
       "\n",
       "             remove_special_char  \n",
       "0  정i 파1 미사z KT 이용기간 2e 단 Q분종U2보  \n",
       "1       K찰.국DLwo 로L3한N% 회장 2 T0송  \n",
       "2           m 김정 자주통일 새,r열1나가야1보  \n",
       "3  갤노트8 주말 27만대 개통…시장은 불법 보조금 얼룩  \n",
       "4     pI美대선I앞두고 R2fr단 발 비해 감시 강화  "
      ],
      "text/html": [
       "<div>\n",
       "<style scoped>\n",
       "    .dataframe tbody tr th:only-of-type {\n",
       "        vertical-align: middle;\n",
       "    }\n",
       "\n",
       "    .dataframe tbody tr th {\n",
       "        vertical-align: top;\n",
       "    }\n",
       "\n",
       "    .dataframe thead th {\n",
       "        text-align: right;\n",
       "    }\n",
       "</style>\n",
       "<table border=\"1\" class=\"dataframe\">\n",
       "  <thead>\n",
       "    <tr style=\"text-align: right;\">\n",
       "      <th></th>\n",
       "      <th>ID</th>\n",
       "      <th>text</th>\n",
       "      <th>target</th>\n",
       "      <th>remove_special_char</th>\n",
       "    </tr>\n",
       "  </thead>\n",
       "  <tbody>\n",
       "    <tr>\n",
       "      <th>0</th>\n",
       "      <td>ynat-v1_train_00000</td>\n",
       "      <td>정i :파1 미사z KT( 이용기간 2e 단] Q분종U2보</td>\n",
       "      <td>4</td>\n",
       "      <td>정i 파1 미사z KT 이용기간 2e 단 Q분종U2보</td>\n",
       "    </tr>\n",
       "    <tr>\n",
       "      <th>1</th>\n",
       "      <td>ynat-v1_train_00001</td>\n",
       "      <td>K찰.국DLwo 로L3한N% 회장 2 T0&amp;}송=</td>\n",
       "      <td>3</td>\n",
       "      <td>K찰.국DLwo 로L3한N% 회장 2 T0송</td>\n",
       "    </tr>\n",
       "    <tr>\n",
       "      <th>2</th>\n",
       "      <td>ynat-v1_train_00002</td>\n",
       "      <td>m 김정) 자주통일 새,?r열1나가야1보</td>\n",
       "      <td>2</td>\n",
       "      <td>m 김정 자주통일 새,r열1나가야1보</td>\n",
       "    </tr>\n",
       "    <tr>\n",
       "      <th>3</th>\n",
       "      <td>ynat-v1_train_00003</td>\n",
       "      <td>갤노트8 주말 27만대 개통…시장은 불법 보조금 얼룩</td>\n",
       "      <td>5</td>\n",
       "      <td>갤노트8 주말 27만대 개통…시장은 불법 보조금 얼룩</td>\n",
       "    </tr>\n",
       "    <tr>\n",
       "      <th>4</th>\n",
       "      <td>ynat-v1_train_00004</td>\n",
       "      <td>pI美대선I앞두고 R2fr단 발] $비해 감시 강화</td>\n",
       "      <td>6</td>\n",
       "      <td>pI美대선I앞두고 R2fr단 발 비해 감시 강화</td>\n",
       "    </tr>\n",
       "  </tbody>\n",
       "</table>\n",
       "</div>"
      ]
     },
     "execution_count": 8,
     "metadata": {},
     "output_type": "execute_result"
    }
   ],
   "execution_count": 8
  },
  {
   "cell_type": "code",
   "source": [
    "# text 앞뒤에 그래픽/게시판/종합 등이 나오는 경우 삭제(큰 의미 없음)\n",
    "remove_special_char_df = df[['ID','remove_special_char','target']].rename(columns={'remove_special_char': 'text'})\n",
    "remove_special_char_df['text'] = remove_special_char_df['text'].replace(r'^(그래픽|게시판)', '', regex=True)\n",
    "remove_special_char_df['text'] = remove_special_char_df['text'].replace(r'^(종합|1보|2보)', '', regex=True)\n",
    "remove_special_char_df['text'] = remove_special_char_df['text'].replace(r'(종합|종합1보|종합2보|1보|2보)$', '', regex=True)\n",
    "remove_special_char_df.head(5)"
   ],
   "metadata": {
    "colab": {
     "base_uri": "https://localhost:8080/",
     "height": 206
    },
    "collapsed": true,
    "id": "EI64uDOVleJp",
    "outputId": "9c29fbe2-1b2b-4165-a78e-5cac2b87028e",
    "ExecuteTime": {
     "end_time": "2024-11-03T00:58:57.588238Z",
     "start_time": "2024-11-03T00:58:57.567909Z"
    }
   },
   "outputs": [
    {
     "data": {
      "text/plain": [
       "                    ID                           text  target\n",
       "0  ynat-v1_train_00000    정i 파1 미사z KT 이용기간 2e 단 Q분종U       4\n",
       "1  ynat-v1_train_00001       K찰.국DLwo 로L3한N% 회장 2 T0송       3\n",
       "2  ynat-v1_train_00002             m 김정 자주통일 새,r열1나가야       2\n",
       "3  ynat-v1_train_00003  갤노트8 주말 27만대 개통…시장은 불법 보조금 얼룩       5\n",
       "4  ynat-v1_train_00004     pI美대선I앞두고 R2fr단 발 비해 감시 강화       6"
      ],
      "text/html": [
       "<div>\n",
       "<style scoped>\n",
       "    .dataframe tbody tr th:only-of-type {\n",
       "        vertical-align: middle;\n",
       "    }\n",
       "\n",
       "    .dataframe tbody tr th {\n",
       "        vertical-align: top;\n",
       "    }\n",
       "\n",
       "    .dataframe thead th {\n",
       "        text-align: right;\n",
       "    }\n",
       "</style>\n",
       "<table border=\"1\" class=\"dataframe\">\n",
       "  <thead>\n",
       "    <tr style=\"text-align: right;\">\n",
       "      <th></th>\n",
       "      <th>ID</th>\n",
       "      <th>text</th>\n",
       "      <th>target</th>\n",
       "    </tr>\n",
       "  </thead>\n",
       "  <tbody>\n",
       "    <tr>\n",
       "      <th>0</th>\n",
       "      <td>ynat-v1_train_00000</td>\n",
       "      <td>정i 파1 미사z KT 이용기간 2e 단 Q분종U</td>\n",
       "      <td>4</td>\n",
       "    </tr>\n",
       "    <tr>\n",
       "      <th>1</th>\n",
       "      <td>ynat-v1_train_00001</td>\n",
       "      <td>K찰.국DLwo 로L3한N% 회장 2 T0송</td>\n",
       "      <td>3</td>\n",
       "    </tr>\n",
       "    <tr>\n",
       "      <th>2</th>\n",
       "      <td>ynat-v1_train_00002</td>\n",
       "      <td>m 김정 자주통일 새,r열1나가야</td>\n",
       "      <td>2</td>\n",
       "    </tr>\n",
       "    <tr>\n",
       "      <th>3</th>\n",
       "      <td>ynat-v1_train_00003</td>\n",
       "      <td>갤노트8 주말 27만대 개통…시장은 불법 보조금 얼룩</td>\n",
       "      <td>5</td>\n",
       "    </tr>\n",
       "    <tr>\n",
       "      <th>4</th>\n",
       "      <td>ynat-v1_train_00004</td>\n",
       "      <td>pI美대선I앞두고 R2fr단 발 비해 감시 강화</td>\n",
       "      <td>6</td>\n",
       "    </tr>\n",
       "  </tbody>\n",
       "</table>\n",
       "</div>"
      ]
     },
     "execution_count": 9,
     "metadata": {},
     "output_type": "execute_result"
    }
   ],
   "execution_count": 9
  },
  {
   "cell_type": "markdown",
   "source": [
    "## 특수문자가 하나도 제거되지 않은 경우\n",
    "노이즈가 추가되지 않았을 확률이 높은 데이터라고 가정한다."
   ],
   "metadata": {
    "id": "IIHDTR4_srzB"
   }
  },
  {
   "cell_type": "code",
   "source": [
    "# text와 특수문자제거 text의 길이 차이를 확인\n",
    "df['text_length'] = df['text'].apply(len)\n",
    "df['remove_special_char_length'] = df['remove_special_char'].apply(len)\n",
    "df['length_diff'] = df['text_length'] - df['remove_special_char_length']"
   ],
   "metadata": {
    "collapsed": true,
    "id": "BwCE-gEEmqqj",
    "ExecuteTime": {
     "end_time": "2024-11-03T00:59:01.752677Z",
     "start_time": "2024-11-03T00:59:01.745865Z"
    }
   },
   "outputs": [],
   "execution_count": 10
  },
  {
   "cell_type": "code",
   "source": [
    "# 특수문자가 제거되지 않은 경우\n",
    "length_diff_0 = df[df['length_diff'] == 0]\n",
    "length_diff_0 = length_diff_0[['ID','text','target','length_diff']]\n",
    "length_diff_0['text'] = length_diff_0['text'].replace(r'^(그래픽|게시판)', '', regex=True)\n",
    "length_diff_0['text'] = length_diff_0['text'].replace(r'^(종합|1보|2보)', '', regex=True)\n",
    "length_diff_0['text'] = length_diff_0['text'].replace(r'(종합|종합1보|종합2보|1보|2보)$', '', regex=True)\n",
    "length_diff_0.head(5)"
   ],
   "metadata": {
    "colab": {
     "base_uri": "https://localhost:8080/",
     "height": 206
    },
    "collapsed": true,
    "id": "izwK8DDIm1aB",
    "outputId": "cd5da0cd-a484-4363-fe49-d8e7786d331b",
    "ExecuteTime": {
     "end_time": "2024-11-03T00:59:02.293771Z",
     "start_time": "2024-11-03T00:59:02.279886Z"
    }
   },
   "outputs": [
    {
     "data": {
      "text/plain": [
       "                    ID                              text  target  length_diff\n",
       "3  ynat-v1_train_00003     갤노트8 주말 27만대 개통…시장은 불법 보조금 얼룩       5            0\n",
       "5  ynat-v1_train_00005    美성인 6명 중 1명꼴 배우자·연인 빚 떠안은 적 있다       0            0\n",
       "6  ynat-v1_train_00006             프로야구~롯TKIAs광주 경기 y천취소       1            0\n",
       "7  ynat-v1_train_00007  아가메즈 33득점 우리카드 KB손해보험 완파…3위 굳...       4            0\n",
       "8  ynat-v1_train_00008      朴대통령 얼마나 많이 놀라셨어요…경주 지진현장 방문       6            0"
      ],
      "text/html": [
       "<div>\n",
       "<style scoped>\n",
       "    .dataframe tbody tr th:only-of-type {\n",
       "        vertical-align: middle;\n",
       "    }\n",
       "\n",
       "    .dataframe tbody tr th {\n",
       "        vertical-align: top;\n",
       "    }\n",
       "\n",
       "    .dataframe thead th {\n",
       "        text-align: right;\n",
       "    }\n",
       "</style>\n",
       "<table border=\"1\" class=\"dataframe\">\n",
       "  <thead>\n",
       "    <tr style=\"text-align: right;\">\n",
       "      <th></th>\n",
       "      <th>ID</th>\n",
       "      <th>text</th>\n",
       "      <th>target</th>\n",
       "      <th>length_diff</th>\n",
       "    </tr>\n",
       "  </thead>\n",
       "  <tbody>\n",
       "    <tr>\n",
       "      <th>3</th>\n",
       "      <td>ynat-v1_train_00003</td>\n",
       "      <td>갤노트8 주말 27만대 개통…시장은 불법 보조금 얼룩</td>\n",
       "      <td>5</td>\n",
       "      <td>0</td>\n",
       "    </tr>\n",
       "    <tr>\n",
       "      <th>5</th>\n",
       "      <td>ynat-v1_train_00005</td>\n",
       "      <td>美성인 6명 중 1명꼴 배우자·연인 빚 떠안은 적 있다</td>\n",
       "      <td>0</td>\n",
       "      <td>0</td>\n",
       "    </tr>\n",
       "    <tr>\n",
       "      <th>6</th>\n",
       "      <td>ynat-v1_train_00006</td>\n",
       "      <td>프로야구~롯TKIAs광주 경기 y천취소</td>\n",
       "      <td>1</td>\n",
       "      <td>0</td>\n",
       "    </tr>\n",
       "    <tr>\n",
       "      <th>7</th>\n",
       "      <td>ynat-v1_train_00007</td>\n",
       "      <td>아가메즈 33득점 우리카드 KB손해보험 완파…3위 굳...</td>\n",
       "      <td>4</td>\n",
       "      <td>0</td>\n",
       "    </tr>\n",
       "    <tr>\n",
       "      <th>8</th>\n",
       "      <td>ynat-v1_train_00008</td>\n",
       "      <td>朴대통령 얼마나 많이 놀라셨어요…경주 지진현장 방문</td>\n",
       "      <td>6</td>\n",
       "      <td>0</td>\n",
       "    </tr>\n",
       "  </tbody>\n",
       "</table>\n",
       "</div>"
      ]
     },
     "execution_count": 11,
     "metadata": {},
     "output_type": "execute_result"
    }
   ],
   "execution_count": 11
  },
  {
   "cell_type": "markdown",
   "source": [
    "## 노이즈가 추가되지 않았을 확률이 높은 데이터 중 소문자의 비율이 0이 아닌 경우\n",
    "이를 노이즈가 추가된 데이터라고 가정한다. 그 이유는, 대부분의 뉴스 기사의 영어는 대문자로 작성하기 때문이다. 단, 예외가 존재하는데 예를 들어 IoT, 단위를 나타내는 m 등은 걸러낼 수 없다."
   ],
   "metadata": {
    "id": "sH1yW2bysmQF"
   }
  },
  {
   "cell_type": "code",
   "source": [
    "# 특수문자가 제거되지 않은 경우 소문자의 비율을 확인한다.\n",
    "length_diff_0['alphabet_ratio'] = length_diff_0['text'].apply(alphabet_ratio)"
   ],
   "metadata": {
    "id": "XYWBfSKbm7_j",
    "ExecuteTime": {
     "end_time": "2024-11-03T00:59:05.218781Z",
     "start_time": "2024-11-03T00:59:05.212914Z"
    }
   },
   "outputs": [],
   "execution_count": 12
  },
  {
   "cell_type": "markdown",
   "source": [
    "no noise data 특수문자가 한개도 제거되지 않고 소문자를 한개도 포함하지 않은 경우"
   ],
   "metadata": {
    "id": "F0-x2lAbCKIz"
   }
  },
  {
   "cell_type": "code",
   "source": [
    "sorted_length_diff_0= length_diff_0.sort_values(by='alphabet_ratio', ascending=False)\n",
    "no_noise_df = sorted_length_diff_0[sorted_length_diff_0['alphabet_ratio']== 0.0]\n",
    "no_noise_df.head(5)"
   ],
   "metadata": {
    "colab": {
     "base_uri": "https://localhost:8080/",
     "height": 339
    },
    "collapsed": true,
    "id": "6E8lpaFNnxLz",
    "outputId": "546ebc45-0357-46b0-8c18-f259b506e989",
    "ExecuteTime": {
     "end_time": "2024-11-03T00:59:06.816752Z",
     "start_time": "2024-11-03T00:59:06.810404Z"
    }
   },
   "outputs": [
    {
     "data": {
      "text/plain": [
       "                       ID                            text  target  \\\n",
       "1893  ynat-v1_train_01893     다승 1위 두산 이용찬 옆구리 통증으로 1군 말소       0   \n",
       "1880  ynat-v1_train_01880        대전협 비대위 의결 과정에 절차상 문제없었다       1   \n",
       "1836  ynat-v1_train_01836    프로야구 SK 신인 상시 교육…새로운 팀 문화 기대       3   \n",
       "1883  ynat-v1_train_01883         옛 인기예능 모아보자…KBS 깔깔티비 오픈       6   \n",
       "1885  ynat-v1_train_01885  하루키 한정판·애니 너의 이름은.…새해 日소설 인기몰이       2   \n",
       "\n",
       "      length_diff  alphabet_ratio  \n",
       "1893            0             0.0  \n",
       "1880            0             0.0  \n",
       "1836            0             0.0  \n",
       "1883            0             0.0  \n",
       "1885            0             0.0  "
      ],
      "text/html": [
       "<div>\n",
       "<style scoped>\n",
       "    .dataframe tbody tr th:only-of-type {\n",
       "        vertical-align: middle;\n",
       "    }\n",
       "\n",
       "    .dataframe tbody tr th {\n",
       "        vertical-align: top;\n",
       "    }\n",
       "\n",
       "    .dataframe thead th {\n",
       "        text-align: right;\n",
       "    }\n",
       "</style>\n",
       "<table border=\"1\" class=\"dataframe\">\n",
       "  <thead>\n",
       "    <tr style=\"text-align: right;\">\n",
       "      <th></th>\n",
       "      <th>ID</th>\n",
       "      <th>text</th>\n",
       "      <th>target</th>\n",
       "      <th>length_diff</th>\n",
       "      <th>alphabet_ratio</th>\n",
       "    </tr>\n",
       "  </thead>\n",
       "  <tbody>\n",
       "    <tr>\n",
       "      <th>1893</th>\n",
       "      <td>ynat-v1_train_01893</td>\n",
       "      <td>다승 1위 두산 이용찬 옆구리 통증으로 1군 말소</td>\n",
       "      <td>0</td>\n",
       "      <td>0</td>\n",
       "      <td>0.0</td>\n",
       "    </tr>\n",
       "    <tr>\n",
       "      <th>1880</th>\n",
       "      <td>ynat-v1_train_01880</td>\n",
       "      <td>대전협 비대위 의결 과정에 절차상 문제없었다</td>\n",
       "      <td>1</td>\n",
       "      <td>0</td>\n",
       "      <td>0.0</td>\n",
       "    </tr>\n",
       "    <tr>\n",
       "      <th>1836</th>\n",
       "      <td>ynat-v1_train_01836</td>\n",
       "      <td>프로야구 SK 신인 상시 교육…새로운 팀 문화 기대</td>\n",
       "      <td>3</td>\n",
       "      <td>0</td>\n",
       "      <td>0.0</td>\n",
       "    </tr>\n",
       "    <tr>\n",
       "      <th>1883</th>\n",
       "      <td>ynat-v1_train_01883</td>\n",
       "      <td>옛 인기예능 모아보자…KBS 깔깔티비 오픈</td>\n",
       "      <td>6</td>\n",
       "      <td>0</td>\n",
       "      <td>0.0</td>\n",
       "    </tr>\n",
       "    <tr>\n",
       "      <th>1885</th>\n",
       "      <td>ynat-v1_train_01885</td>\n",
       "      <td>하루키 한정판·애니 너의 이름은.…새해 日소설 인기몰이</td>\n",
       "      <td>2</td>\n",
       "      <td>0</td>\n",
       "      <td>0.0</td>\n",
       "    </tr>\n",
       "  </tbody>\n",
       "</table>\n",
       "</div>"
      ]
     },
     "execution_count": 13,
     "metadata": {},
     "output_type": "execute_result"
    }
   ],
   "execution_count": 13
  },
  {
   "cell_type": "markdown",
   "source": [
    "noise data1\n",
    "특수문자가 1개 이상 제거된 경우"
   ],
   "metadata": {
    "id": "p1bygrpyByPS"
   }
  },
  {
   "cell_type": "code",
   "source": [
    "noise_data1 = df[df['length_diff'] != 0]\n",
    "noise_data1 = noise_data1[['ID','text','target']]\n",
    "noise_data1.head(5)"
   ],
   "metadata": {
    "colab": {
     "base_uri": "https://localhost:8080/",
     "height": 206
    },
    "collapsed": true,
    "id": "i8CPt7Wbnx1N",
    "outputId": "cef8c223-13d5-4202-987a-964ea6d2e107",
    "ExecuteTime": {
     "end_time": "2024-11-03T00:59:10.492897Z",
     "start_time": "2024-11-03T00:59:10.486024Z"
    }
   },
   "outputs": [
    {
     "data": {
      "text/plain": [
       "                     ID                              text  target\n",
       "0   ynat-v1_train_00000  정i :파1 미사z KT( 이용기간 2e 단] Q분종U2보       4\n",
       "1   ynat-v1_train_00001       K찰.국DLwo 로L3한N% 회장 2 T0&}송=       3\n",
       "2   ynat-v1_train_00002            m 김정) 자주통일 새,?r열1나가야1보       2\n",
       "4   ynat-v1_train_00004      pI美대선I앞두고 R2fr단 발] $비해 감시 강화       6\n",
       "10  ynat-v1_train_00010       oi 매력 R모h츠a열#w3약 >l·주가 고Q/진       5"
      ],
      "text/html": [
       "<div>\n",
       "<style scoped>\n",
       "    .dataframe tbody tr th:only-of-type {\n",
       "        vertical-align: middle;\n",
       "    }\n",
       "\n",
       "    .dataframe tbody tr th {\n",
       "        vertical-align: top;\n",
       "    }\n",
       "\n",
       "    .dataframe thead th {\n",
       "        text-align: right;\n",
       "    }\n",
       "</style>\n",
       "<table border=\"1\" class=\"dataframe\">\n",
       "  <thead>\n",
       "    <tr style=\"text-align: right;\">\n",
       "      <th></th>\n",
       "      <th>ID</th>\n",
       "      <th>text</th>\n",
       "      <th>target</th>\n",
       "    </tr>\n",
       "  </thead>\n",
       "  <tbody>\n",
       "    <tr>\n",
       "      <th>0</th>\n",
       "      <td>ynat-v1_train_00000</td>\n",
       "      <td>정i :파1 미사z KT( 이용기간 2e 단] Q분종U2보</td>\n",
       "      <td>4</td>\n",
       "    </tr>\n",
       "    <tr>\n",
       "      <th>1</th>\n",
       "      <td>ynat-v1_train_00001</td>\n",
       "      <td>K찰.국DLwo 로L3한N% 회장 2 T0&amp;}송=</td>\n",
       "      <td>3</td>\n",
       "    </tr>\n",
       "    <tr>\n",
       "      <th>2</th>\n",
       "      <td>ynat-v1_train_00002</td>\n",
       "      <td>m 김정) 자주통일 새,?r열1나가야1보</td>\n",
       "      <td>2</td>\n",
       "    </tr>\n",
       "    <tr>\n",
       "      <th>4</th>\n",
       "      <td>ynat-v1_train_00004</td>\n",
       "      <td>pI美대선I앞두고 R2fr단 발] $비해 감시 강화</td>\n",
       "      <td>6</td>\n",
       "    </tr>\n",
       "    <tr>\n",
       "      <th>10</th>\n",
       "      <td>ynat-v1_train_00010</td>\n",
       "      <td>oi 매력 R모h츠a열#w3약 &gt;l·주가 고Q/진</td>\n",
       "      <td>5</td>\n",
       "    </tr>\n",
       "  </tbody>\n",
       "</table>\n",
       "</div>"
      ]
     },
     "execution_count": 14,
     "metadata": {},
     "output_type": "execute_result"
    }
   ],
   "execution_count": 14
  },
  {
   "cell_type": "markdown",
   "source": [
    "noise data2 특수문자가 하나도 제거되지 않았지만, 제목에 소문자가 포함 되어있는 경우"
   ],
   "metadata": {
    "id": "H2YNGSHFB6Ke"
   }
  },
  {
   "cell_type": "code",
   "source": [
    "noise_data2 = sorted_length_diff_0[sorted_length_diff_0['alphabet_ratio']!= 0.0]\n",
    "noise_data2 = noise_data2[['ID','text','target']]\n",
    "noise_data2"
   ],
   "metadata": {
    "colab": {
     "base_uri": "https://localhost:8080/",
     "height": 424
    },
    "collapsed": true,
    "id": "_0O2v7uft46u",
    "outputId": "50fa0d83-5e28-4f18-b2f3-2b04998a01e0",
    "ExecuteTime": {
     "end_time": "2024-11-03T00:59:14.094540Z",
     "start_time": "2024-11-03T00:59:14.081683Z"
    }
   },
   "outputs": [
    {
     "data": {
      "text/plain": [
       "                       ID                                  text  target\n",
       "2037  ynat-v1_train_02037                       b저임tq만원 n약 p행Wh       3\n",
       "247   ynat-v1_train_00247                       m시판 코.아 Vvg페ogt       4\n",
       "1247  ynat-v1_train_01247         1폭a M,p넥wE박2원q조상qj25일 x찰 FwH사       3\n",
       "636   ynat-v1_train_00636                       m기에 경례하5 이mt홍영c       2\n",
       "586   ynat-v1_train_00586                   오Gc r권,bA채Xa리 소o 반등       5\n",
       "...                   ...                                   ...     ...\n",
       "654   ynat-v1_train_00654        S렘린궁 김정은 J원2UhGF하반기 러시아M방문H합2A       2\n",
       "657   ynat-v1_train_00657      팀 쿡 애플 CEO iOS 11 배포 통해 증강현실 본격화       0\n",
       "957   ynat-v1_train_00957      MWC19 SK텔레콤 싱가포르 통신사 싱텔과 e스포츠 협력       4\n",
       "1784  ynat-v1_train_01784  영상 인니 경찰 2m 넘는 구렁이로 위협 심문…거짓말 하면 물린다       2\n",
       "1987  ynat-v1_train_01987  G창 k천K 진입도로 .방도 승격…국P 50V억 지원 4차로 8장       3\n",
       "\n",
       "[105 rows x 3 columns]"
      ],
      "text/html": [
       "<div>\n",
       "<style scoped>\n",
       "    .dataframe tbody tr th:only-of-type {\n",
       "        vertical-align: middle;\n",
       "    }\n",
       "\n",
       "    .dataframe tbody tr th {\n",
       "        vertical-align: top;\n",
       "    }\n",
       "\n",
       "    .dataframe thead th {\n",
       "        text-align: right;\n",
       "    }\n",
       "</style>\n",
       "<table border=\"1\" class=\"dataframe\">\n",
       "  <thead>\n",
       "    <tr style=\"text-align: right;\">\n",
       "      <th></th>\n",
       "      <th>ID</th>\n",
       "      <th>text</th>\n",
       "      <th>target</th>\n",
       "    </tr>\n",
       "  </thead>\n",
       "  <tbody>\n",
       "    <tr>\n",
       "      <th>2037</th>\n",
       "      <td>ynat-v1_train_02037</td>\n",
       "      <td>b저임tq만원 n약 p행Wh</td>\n",
       "      <td>3</td>\n",
       "    </tr>\n",
       "    <tr>\n",
       "      <th>247</th>\n",
       "      <td>ynat-v1_train_00247</td>\n",
       "      <td>m시판 코.아 Vvg페ogt</td>\n",
       "      <td>4</td>\n",
       "    </tr>\n",
       "    <tr>\n",
       "      <th>1247</th>\n",
       "      <td>ynat-v1_train_01247</td>\n",
       "      <td>1폭a M,p넥wE박2원q조상qj25일 x찰 FwH사</td>\n",
       "      <td>3</td>\n",
       "    </tr>\n",
       "    <tr>\n",
       "      <th>636</th>\n",
       "      <td>ynat-v1_train_00636</td>\n",
       "      <td>m기에 경례하5 이mt홍영c</td>\n",
       "      <td>2</td>\n",
       "    </tr>\n",
       "    <tr>\n",
       "      <th>586</th>\n",
       "      <td>ynat-v1_train_00586</td>\n",
       "      <td>오Gc r권,bA채Xa리 소o 반등</td>\n",
       "      <td>5</td>\n",
       "    </tr>\n",
       "    <tr>\n",
       "      <th>...</th>\n",
       "      <td>...</td>\n",
       "      <td>...</td>\n",
       "      <td>...</td>\n",
       "    </tr>\n",
       "    <tr>\n",
       "      <th>654</th>\n",
       "      <td>ynat-v1_train_00654</td>\n",
       "      <td>S렘린궁 김정은 J원2UhGF하반기 러시아M방문H합2A</td>\n",
       "      <td>2</td>\n",
       "    </tr>\n",
       "    <tr>\n",
       "      <th>657</th>\n",
       "      <td>ynat-v1_train_00657</td>\n",
       "      <td>팀 쿡 애플 CEO iOS 11 배포 통해 증강현실 본격화</td>\n",
       "      <td>0</td>\n",
       "    </tr>\n",
       "    <tr>\n",
       "      <th>957</th>\n",
       "      <td>ynat-v1_train_00957</td>\n",
       "      <td>MWC19 SK텔레콤 싱가포르 통신사 싱텔과 e스포츠 협력</td>\n",
       "      <td>4</td>\n",
       "    </tr>\n",
       "    <tr>\n",
       "      <th>1784</th>\n",
       "      <td>ynat-v1_train_01784</td>\n",
       "      <td>영상 인니 경찰 2m 넘는 구렁이로 위협 심문…거짓말 하면 물린다</td>\n",
       "      <td>2</td>\n",
       "    </tr>\n",
       "    <tr>\n",
       "      <th>1987</th>\n",
       "      <td>ynat-v1_train_01987</td>\n",
       "      <td>G창 k천K 진입도로 .방도 승격…국P 50V억 지원 4차로 8장</td>\n",
       "      <td>3</td>\n",
       "    </tr>\n",
       "  </tbody>\n",
       "</table>\n",
       "<p>105 rows × 3 columns</p>\n",
       "</div>"
      ]
     },
     "execution_count": 15,
     "metadata": {},
     "output_type": "execute_result"
    }
   ],
   "execution_count": 15
  },
  {
   "cell_type": "code",
   "source": [
    "noise_df = pd.concat([noise_data1, noise_data2])\n",
    "noise_df"
   ],
   "metadata": {
    "colab": {
     "base_uri": "https://localhost:8080/",
     "height": 424
    },
    "collapsed": true,
    "id": "HYeRrazLuWSd",
    "outputId": "d81088c0-47af-468e-bf40-79a3a79d7707",
    "ExecuteTime": {
     "end_time": "2024-11-03T00:59:16.706142Z",
     "start_time": "2024-11-03T00:59:16.697020Z"
    }
   },
   "outputs": [
    {
     "data": {
      "text/plain": [
       "                       ID                                  text  target\n",
       "0     ynat-v1_train_00000      정i :파1 미사z KT( 이용기간 2e 단] Q분종U2보       4\n",
       "1     ynat-v1_train_00001           K찰.국DLwo 로L3한N% 회장 2 T0&}송=       3\n",
       "2     ynat-v1_train_00002                m 김정) 자주통일 새,?r열1나가야1보       2\n",
       "4     ynat-v1_train_00004          pI美대선I앞두고 R2fr단 발] $비해 감시 강화       6\n",
       "10    ynat-v1_train_00010           oi 매력 R모h츠a열#w3약 >l·주가 고Q/진       5\n",
       "...                   ...                                   ...     ...\n",
       "654   ynat-v1_train_00654        S렘린궁 김정은 J원2UhGF하반기 러시아M방문H합2A       2\n",
       "657   ynat-v1_train_00657      팀 쿡 애플 CEO iOS 11 배포 통해 증강현실 본격화       0\n",
       "957   ynat-v1_train_00957      MWC19 SK텔레콤 싱가포르 통신사 싱텔과 e스포츠 협력       4\n",
       "1784  ynat-v1_train_01784  영상 인니 경찰 2m 넘는 구렁이로 위협 심문…거짓말 하면 물린다       2\n",
       "1987  ynat-v1_train_01987  G창 k천K 진입도로 .방도 승격…국P 50V억 지원 4차로 8장       3\n",
       "\n",
       "[1611 rows x 3 columns]"
      ],
      "text/html": [
       "<div>\n",
       "<style scoped>\n",
       "    .dataframe tbody tr th:only-of-type {\n",
       "        vertical-align: middle;\n",
       "    }\n",
       "\n",
       "    .dataframe tbody tr th {\n",
       "        vertical-align: top;\n",
       "    }\n",
       "\n",
       "    .dataframe thead th {\n",
       "        text-align: right;\n",
       "    }\n",
       "</style>\n",
       "<table border=\"1\" class=\"dataframe\">\n",
       "  <thead>\n",
       "    <tr style=\"text-align: right;\">\n",
       "      <th></th>\n",
       "      <th>ID</th>\n",
       "      <th>text</th>\n",
       "      <th>target</th>\n",
       "    </tr>\n",
       "  </thead>\n",
       "  <tbody>\n",
       "    <tr>\n",
       "      <th>0</th>\n",
       "      <td>ynat-v1_train_00000</td>\n",
       "      <td>정i :파1 미사z KT( 이용기간 2e 단] Q분종U2보</td>\n",
       "      <td>4</td>\n",
       "    </tr>\n",
       "    <tr>\n",
       "      <th>1</th>\n",
       "      <td>ynat-v1_train_00001</td>\n",
       "      <td>K찰.국DLwo 로L3한N% 회장 2 T0&amp;}송=</td>\n",
       "      <td>3</td>\n",
       "    </tr>\n",
       "    <tr>\n",
       "      <th>2</th>\n",
       "      <td>ynat-v1_train_00002</td>\n",
       "      <td>m 김정) 자주통일 새,?r열1나가야1보</td>\n",
       "      <td>2</td>\n",
       "    </tr>\n",
       "    <tr>\n",
       "      <th>4</th>\n",
       "      <td>ynat-v1_train_00004</td>\n",
       "      <td>pI美대선I앞두고 R2fr단 발] $비해 감시 강화</td>\n",
       "      <td>6</td>\n",
       "    </tr>\n",
       "    <tr>\n",
       "      <th>10</th>\n",
       "      <td>ynat-v1_train_00010</td>\n",
       "      <td>oi 매력 R모h츠a열#w3약 &gt;l·주가 고Q/진</td>\n",
       "      <td>5</td>\n",
       "    </tr>\n",
       "    <tr>\n",
       "      <th>...</th>\n",
       "      <td>...</td>\n",
       "      <td>...</td>\n",
       "      <td>...</td>\n",
       "    </tr>\n",
       "    <tr>\n",
       "      <th>654</th>\n",
       "      <td>ynat-v1_train_00654</td>\n",
       "      <td>S렘린궁 김정은 J원2UhGF하반기 러시아M방문H합2A</td>\n",
       "      <td>2</td>\n",
       "    </tr>\n",
       "    <tr>\n",
       "      <th>657</th>\n",
       "      <td>ynat-v1_train_00657</td>\n",
       "      <td>팀 쿡 애플 CEO iOS 11 배포 통해 증강현실 본격화</td>\n",
       "      <td>0</td>\n",
       "    </tr>\n",
       "    <tr>\n",
       "      <th>957</th>\n",
       "      <td>ynat-v1_train_00957</td>\n",
       "      <td>MWC19 SK텔레콤 싱가포르 통신사 싱텔과 e스포츠 협력</td>\n",
       "      <td>4</td>\n",
       "    </tr>\n",
       "    <tr>\n",
       "      <th>1784</th>\n",
       "      <td>ynat-v1_train_01784</td>\n",
       "      <td>영상 인니 경찰 2m 넘는 구렁이로 위협 심문…거짓말 하면 물린다</td>\n",
       "      <td>2</td>\n",
       "    </tr>\n",
       "    <tr>\n",
       "      <th>1987</th>\n",
       "      <td>ynat-v1_train_01987</td>\n",
       "      <td>G창 k천K 진입도로 .방도 승격…국P 50V억 지원 4차로 8장</td>\n",
       "      <td>3</td>\n",
       "    </tr>\n",
       "  </tbody>\n",
       "</table>\n",
       "<p>1611 rows × 3 columns</p>\n",
       "</div>"
      ]
     },
     "execution_count": 16,
     "metadata": {},
     "output_type": "execute_result"
    }
   ],
   "execution_count": 16
  },
  {
   "metadata": {
    "ExecuteTime": {
     "end_time": "2024-11-03T00:59:35.989511Z",
     "start_time": "2024-11-03T00:59:35.974145Z"
    }
   },
   "cell_type": "code",
   "source": [
    "no_noise_df['is_noise'] = 0\n",
    "noise_df['is_noise'] = 1\n",
    "split_noise_nonoise = pd.concat([no_noise_df, noise_df])\n",
    "split_noise_nonoise"
   ],
   "outputs": [
    {
     "name": "stderr",
     "output_type": "stream",
     "text": [
      "/var/folders/kd/_nb0bhb56nv8z6yw94zdh64c0000gn/T/ipykernel_3458/603377872.py:1: SettingWithCopyWarning: \n",
      "A value is trying to be set on a copy of a slice from a DataFrame.\n",
      "Try using .loc[row_indexer,col_indexer] = value instead\n",
      "\n",
      "See the caveats in the documentation: https://pandas.pydata.org/pandas-docs/stable/user_guide/indexing.html#returning-a-view-versus-a-copy\n",
      "  no_noise_df['is_noise'] = 0\n"
     ]
    },
    {
     "data": {
      "text/plain": [
       "                       ID                                  text  target  \\\n",
       "1893  ynat-v1_train_01893           다승 1위 두산 이용찬 옆구리 통증으로 1군 말소       0   \n",
       "1880  ynat-v1_train_01880              대전협 비대위 의결 과정에 절차상 문제없었다       1   \n",
       "1836  ynat-v1_train_01836          프로야구 SK 신인 상시 교육…새로운 팀 문화 기대       3   \n",
       "1883  ynat-v1_train_01883               옛 인기예능 모아보자…KBS 깔깔티비 오픈       6   \n",
       "1885  ynat-v1_train_01885        하루키 한정판·애니 너의 이름은.…새해 日소설 인기몰이       2   \n",
       "...                   ...                                   ...     ...   \n",
       "654   ynat-v1_train_00654        S렘린궁 김정은 J원2UhGF하반기 러시아M방문H합2A       2   \n",
       "657   ynat-v1_train_00657      팀 쿡 애플 CEO iOS 11 배포 통해 증강현실 본격화       0   \n",
       "957   ynat-v1_train_00957      MWC19 SK텔레콤 싱가포르 통신사 싱텔과 e스포츠 협력       4   \n",
       "1784  ynat-v1_train_01784  영상 인니 경찰 2m 넘는 구렁이로 위협 심문…거짓말 하면 물린다       2   \n",
       "1987  ynat-v1_train_01987  G창 k천K 진입도로 .방도 승격…국P 50V억 지원 4차로 8장       3   \n",
       "\n",
       "      length_diff  alphabet_ratio  is_noise  \n",
       "1893          0.0             0.0         0  \n",
       "1880          0.0             0.0         0  \n",
       "1836          0.0             0.0         0  \n",
       "1883          0.0             0.0         0  \n",
       "1885          0.0             0.0         0  \n",
       "...           ...             ...       ...  \n",
       "654           NaN             NaN         1  \n",
       "657           NaN             NaN         1  \n",
       "957           NaN             NaN         1  \n",
       "1784          NaN             NaN         1  \n",
       "1987          NaN             NaN         1  \n",
       "\n",
       "[2800 rows x 6 columns]"
      ],
      "text/html": [
       "<div>\n",
       "<style scoped>\n",
       "    .dataframe tbody tr th:only-of-type {\n",
       "        vertical-align: middle;\n",
       "    }\n",
       "\n",
       "    .dataframe tbody tr th {\n",
       "        vertical-align: top;\n",
       "    }\n",
       "\n",
       "    .dataframe thead th {\n",
       "        text-align: right;\n",
       "    }\n",
       "</style>\n",
       "<table border=\"1\" class=\"dataframe\">\n",
       "  <thead>\n",
       "    <tr style=\"text-align: right;\">\n",
       "      <th></th>\n",
       "      <th>ID</th>\n",
       "      <th>text</th>\n",
       "      <th>target</th>\n",
       "      <th>length_diff</th>\n",
       "      <th>alphabet_ratio</th>\n",
       "      <th>is_noise</th>\n",
       "    </tr>\n",
       "  </thead>\n",
       "  <tbody>\n",
       "    <tr>\n",
       "      <th>1893</th>\n",
       "      <td>ynat-v1_train_01893</td>\n",
       "      <td>다승 1위 두산 이용찬 옆구리 통증으로 1군 말소</td>\n",
       "      <td>0</td>\n",
       "      <td>0.0</td>\n",
       "      <td>0.0</td>\n",
       "      <td>0</td>\n",
       "    </tr>\n",
       "    <tr>\n",
       "      <th>1880</th>\n",
       "      <td>ynat-v1_train_01880</td>\n",
       "      <td>대전협 비대위 의결 과정에 절차상 문제없었다</td>\n",
       "      <td>1</td>\n",
       "      <td>0.0</td>\n",
       "      <td>0.0</td>\n",
       "      <td>0</td>\n",
       "    </tr>\n",
       "    <tr>\n",
       "      <th>1836</th>\n",
       "      <td>ynat-v1_train_01836</td>\n",
       "      <td>프로야구 SK 신인 상시 교육…새로운 팀 문화 기대</td>\n",
       "      <td>3</td>\n",
       "      <td>0.0</td>\n",
       "      <td>0.0</td>\n",
       "      <td>0</td>\n",
       "    </tr>\n",
       "    <tr>\n",
       "      <th>1883</th>\n",
       "      <td>ynat-v1_train_01883</td>\n",
       "      <td>옛 인기예능 모아보자…KBS 깔깔티비 오픈</td>\n",
       "      <td>6</td>\n",
       "      <td>0.0</td>\n",
       "      <td>0.0</td>\n",
       "      <td>0</td>\n",
       "    </tr>\n",
       "    <tr>\n",
       "      <th>1885</th>\n",
       "      <td>ynat-v1_train_01885</td>\n",
       "      <td>하루키 한정판·애니 너의 이름은.…새해 日소설 인기몰이</td>\n",
       "      <td>2</td>\n",
       "      <td>0.0</td>\n",
       "      <td>0.0</td>\n",
       "      <td>0</td>\n",
       "    </tr>\n",
       "    <tr>\n",
       "      <th>...</th>\n",
       "      <td>...</td>\n",
       "      <td>...</td>\n",
       "      <td>...</td>\n",
       "      <td>...</td>\n",
       "      <td>...</td>\n",
       "      <td>...</td>\n",
       "    </tr>\n",
       "    <tr>\n",
       "      <th>654</th>\n",
       "      <td>ynat-v1_train_00654</td>\n",
       "      <td>S렘린궁 김정은 J원2UhGF하반기 러시아M방문H합2A</td>\n",
       "      <td>2</td>\n",
       "      <td>NaN</td>\n",
       "      <td>NaN</td>\n",
       "      <td>1</td>\n",
       "    </tr>\n",
       "    <tr>\n",
       "      <th>657</th>\n",
       "      <td>ynat-v1_train_00657</td>\n",
       "      <td>팀 쿡 애플 CEO iOS 11 배포 통해 증강현실 본격화</td>\n",
       "      <td>0</td>\n",
       "      <td>NaN</td>\n",
       "      <td>NaN</td>\n",
       "      <td>1</td>\n",
       "    </tr>\n",
       "    <tr>\n",
       "      <th>957</th>\n",
       "      <td>ynat-v1_train_00957</td>\n",
       "      <td>MWC19 SK텔레콤 싱가포르 통신사 싱텔과 e스포츠 협력</td>\n",
       "      <td>4</td>\n",
       "      <td>NaN</td>\n",
       "      <td>NaN</td>\n",
       "      <td>1</td>\n",
       "    </tr>\n",
       "    <tr>\n",
       "      <th>1784</th>\n",
       "      <td>ynat-v1_train_01784</td>\n",
       "      <td>영상 인니 경찰 2m 넘는 구렁이로 위협 심문…거짓말 하면 물린다</td>\n",
       "      <td>2</td>\n",
       "      <td>NaN</td>\n",
       "      <td>NaN</td>\n",
       "      <td>1</td>\n",
       "    </tr>\n",
       "    <tr>\n",
       "      <th>1987</th>\n",
       "      <td>ynat-v1_train_01987</td>\n",
       "      <td>G창 k천K 진입도로 .방도 승격…국P 50V억 지원 4차로 8장</td>\n",
       "      <td>3</td>\n",
       "      <td>NaN</td>\n",
       "      <td>NaN</td>\n",
       "      <td>1</td>\n",
       "    </tr>\n",
       "  </tbody>\n",
       "</table>\n",
       "<p>2800 rows × 6 columns</p>\n",
       "</div>"
      ]
     },
     "execution_count": 17,
     "metadata": {},
     "output_type": "execute_result"
    }
   ],
   "execution_count": 17
  },
  {
   "metadata": {
    "ExecuteTime": {
     "end_time": "2024-11-03T00:59:56.370923Z",
     "start_time": "2024-11-03T00:59:56.365500Z"
    }
   },
   "cell_type": "code",
   "source": [
    "split_noise_nonoise = split_noise_nonoise[['ID','text','target','is_noise']]\n",
    "split_noise_nonoise"
   ],
   "outputs": [
    {
     "data": {
      "text/plain": [
       "                       ID                                  text  target  \\\n",
       "1893  ynat-v1_train_01893           다승 1위 두산 이용찬 옆구리 통증으로 1군 말소       0   \n",
       "1880  ynat-v1_train_01880              대전협 비대위 의결 과정에 절차상 문제없었다       1   \n",
       "1836  ynat-v1_train_01836          프로야구 SK 신인 상시 교육…새로운 팀 문화 기대       3   \n",
       "1883  ynat-v1_train_01883               옛 인기예능 모아보자…KBS 깔깔티비 오픈       6   \n",
       "1885  ynat-v1_train_01885        하루키 한정판·애니 너의 이름은.…새해 日소설 인기몰이       2   \n",
       "...                   ...                                   ...     ...   \n",
       "654   ynat-v1_train_00654        S렘린궁 김정은 J원2UhGF하반기 러시아M방문H합2A       2   \n",
       "657   ynat-v1_train_00657      팀 쿡 애플 CEO iOS 11 배포 통해 증강현실 본격화       0   \n",
       "957   ynat-v1_train_00957      MWC19 SK텔레콤 싱가포르 통신사 싱텔과 e스포츠 협력       4   \n",
       "1784  ynat-v1_train_01784  영상 인니 경찰 2m 넘는 구렁이로 위협 심문…거짓말 하면 물린다       2   \n",
       "1987  ynat-v1_train_01987  G창 k천K 진입도로 .방도 승격…국P 50V억 지원 4차로 8장       3   \n",
       "\n",
       "      is_noise  \n",
       "1893         0  \n",
       "1880         0  \n",
       "1836         0  \n",
       "1883         0  \n",
       "1885         0  \n",
       "...        ...  \n",
       "654          1  \n",
       "657          1  \n",
       "957          1  \n",
       "1784         1  \n",
       "1987         1  \n",
       "\n",
       "[2800 rows x 4 columns]"
      ],
      "text/html": [
       "<div>\n",
       "<style scoped>\n",
       "    .dataframe tbody tr th:only-of-type {\n",
       "        vertical-align: middle;\n",
       "    }\n",
       "\n",
       "    .dataframe tbody tr th {\n",
       "        vertical-align: top;\n",
       "    }\n",
       "\n",
       "    .dataframe thead th {\n",
       "        text-align: right;\n",
       "    }\n",
       "</style>\n",
       "<table border=\"1\" class=\"dataframe\">\n",
       "  <thead>\n",
       "    <tr style=\"text-align: right;\">\n",
       "      <th></th>\n",
       "      <th>ID</th>\n",
       "      <th>text</th>\n",
       "      <th>target</th>\n",
       "      <th>is_noise</th>\n",
       "    </tr>\n",
       "  </thead>\n",
       "  <tbody>\n",
       "    <tr>\n",
       "      <th>1893</th>\n",
       "      <td>ynat-v1_train_01893</td>\n",
       "      <td>다승 1위 두산 이용찬 옆구리 통증으로 1군 말소</td>\n",
       "      <td>0</td>\n",
       "      <td>0</td>\n",
       "    </tr>\n",
       "    <tr>\n",
       "      <th>1880</th>\n",
       "      <td>ynat-v1_train_01880</td>\n",
       "      <td>대전협 비대위 의결 과정에 절차상 문제없었다</td>\n",
       "      <td>1</td>\n",
       "      <td>0</td>\n",
       "    </tr>\n",
       "    <tr>\n",
       "      <th>1836</th>\n",
       "      <td>ynat-v1_train_01836</td>\n",
       "      <td>프로야구 SK 신인 상시 교육…새로운 팀 문화 기대</td>\n",
       "      <td>3</td>\n",
       "      <td>0</td>\n",
       "    </tr>\n",
       "    <tr>\n",
       "      <th>1883</th>\n",
       "      <td>ynat-v1_train_01883</td>\n",
       "      <td>옛 인기예능 모아보자…KBS 깔깔티비 오픈</td>\n",
       "      <td>6</td>\n",
       "      <td>0</td>\n",
       "    </tr>\n",
       "    <tr>\n",
       "      <th>1885</th>\n",
       "      <td>ynat-v1_train_01885</td>\n",
       "      <td>하루키 한정판·애니 너의 이름은.…새해 日소설 인기몰이</td>\n",
       "      <td>2</td>\n",
       "      <td>0</td>\n",
       "    </tr>\n",
       "    <tr>\n",
       "      <th>...</th>\n",
       "      <td>...</td>\n",
       "      <td>...</td>\n",
       "      <td>...</td>\n",
       "      <td>...</td>\n",
       "    </tr>\n",
       "    <tr>\n",
       "      <th>654</th>\n",
       "      <td>ynat-v1_train_00654</td>\n",
       "      <td>S렘린궁 김정은 J원2UhGF하반기 러시아M방문H합2A</td>\n",
       "      <td>2</td>\n",
       "      <td>1</td>\n",
       "    </tr>\n",
       "    <tr>\n",
       "      <th>657</th>\n",
       "      <td>ynat-v1_train_00657</td>\n",
       "      <td>팀 쿡 애플 CEO iOS 11 배포 통해 증강현실 본격화</td>\n",
       "      <td>0</td>\n",
       "      <td>1</td>\n",
       "    </tr>\n",
       "    <tr>\n",
       "      <th>957</th>\n",
       "      <td>ynat-v1_train_00957</td>\n",
       "      <td>MWC19 SK텔레콤 싱가포르 통신사 싱텔과 e스포츠 협력</td>\n",
       "      <td>4</td>\n",
       "      <td>1</td>\n",
       "    </tr>\n",
       "    <tr>\n",
       "      <th>1784</th>\n",
       "      <td>ynat-v1_train_01784</td>\n",
       "      <td>영상 인니 경찰 2m 넘는 구렁이로 위협 심문…거짓말 하면 물린다</td>\n",
       "      <td>2</td>\n",
       "      <td>1</td>\n",
       "    </tr>\n",
       "    <tr>\n",
       "      <th>1987</th>\n",
       "      <td>ynat-v1_train_01987</td>\n",
       "      <td>G창 k천K 진입도로 .방도 승격…국P 50V억 지원 4차로 8장</td>\n",
       "      <td>3</td>\n",
       "      <td>1</td>\n",
       "    </tr>\n",
       "  </tbody>\n",
       "</table>\n",
       "<p>2800 rows × 4 columns</p>\n",
       "</div>"
      ]
     },
     "execution_count": 18,
     "metadata": {},
     "output_type": "execute_result"
    }
   ],
   "execution_count": 18
  },
  {
   "metadata": {
    "ExecuteTime": {
     "end_time": "2024-11-03T01:00:01.473260Z",
     "start_time": "2024-11-03T01:00:01.457434Z"
    }
   },
   "cell_type": "code",
   "source": "split_noise_nonoise.to_csv('data/1_noise_detected.csv', index=False)",
   "outputs": [],
   "execution_count": 19
  },
  {
   "metadata": {},
   "cell_type": "code",
   "outputs": [],
   "execution_count": null,
   "source": ""
  }
 ]
}
